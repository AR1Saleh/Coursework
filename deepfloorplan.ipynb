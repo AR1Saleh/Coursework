{
  "cells": [
    {
      "cell_type": "markdown",
      "metadata": {
        "id": "view-in-github",
        "colab_type": "text"
      },
      "source": [
        "<a href=\"https://colab.research.google.com/github/AR1Saleh/Projects/blob/main/deepfloorplan.ipynb\" target=\"_parent\"><img src=\"https://colab.research.google.com/assets/colab-badge.svg\" alt=\"Open In Colab\"/></a>"
      ]
    },
    {
      "cell_type": "markdown",
      "metadata": {
        "id": "fqbPXFv4WxYL"
      },
      "source": [
        "### Installation\n",
        "1. Run the first 2 cells\n",
        "2. Restart runtime\n",
        "3. Run the rest of the jupyter notebooks (do not run the first 2 cells again)"
      ]
    },
    {
      "cell_type": "code",
      "execution_count": 1,
      "metadata": {
        "colab": {
          "base_uri": "https://localhost:8080/"
        },
        "id": "YPHHCUKZn89j",
        "outputId": "d3a840d5-7bb5-4373-8952-ae1ff2fe70d3",
        "collapsed": true
      },
      "outputs": [
        {
          "output_type": "stream",
          "name": "stdout",
          "text": [
            "Cloning into 'TF2DeepFloorplan'...\n",
            "remote: Enumerating objects: 1051, done.\u001b[K\n",
            "remote: Counting objects: 100% (479/479), done.\u001b[K\n",
            "remote: Compressing objects: 100% (213/213), done.\u001b[K\n",
            "remote: Total 1051 (delta 286), reused 362 (delta 235), pack-reused 572 (from 1)\u001b[K\n",
            "Receiving objects: 100% (1051/1051), 8.14 MiB | 17.88 MiB/s, done.\n",
            "Resolving deltas: 100% (587/587), done.\n",
            "Requirement already satisfied: gdown in /usr/local/lib/python3.11/dist-packages (5.2.0)\n",
            "Requirement already satisfied: beautifulsoup4 in /usr/local/lib/python3.11/dist-packages (from gdown) (4.13.4)\n",
            "Requirement already satisfied: filelock in /usr/local/lib/python3.11/dist-packages (from gdown) (3.18.0)\n",
            "Requirement already satisfied: requests[socks] in /usr/local/lib/python3.11/dist-packages (from gdown) (2.32.3)\n",
            "Requirement already satisfied: tqdm in /usr/local/lib/python3.11/dist-packages (from gdown) (4.67.1)\n",
            "Requirement already satisfied: soupsieve>1.2 in /usr/local/lib/python3.11/dist-packages (from beautifulsoup4->gdown) (2.7)\n",
            "Requirement already satisfied: typing-extensions>=4.0.0 in /usr/local/lib/python3.11/dist-packages (from beautifulsoup4->gdown) (4.14.0)\n",
            "Requirement already satisfied: charset-normalizer<4,>=2 in /usr/local/lib/python3.11/dist-packages (from requests[socks]->gdown) (3.4.2)\n",
            "Requirement already satisfied: idna<4,>=2.5 in /usr/local/lib/python3.11/dist-packages (from requests[socks]->gdown) (3.10)\n",
            "Requirement already satisfied: urllib3<3,>=1.21.1 in /usr/local/lib/python3.11/dist-packages (from requests[socks]->gdown) (2.4.0)\n",
            "Requirement already satisfied: certifi>=2017.4.17 in /usr/local/lib/python3.11/dist-packages (from requests[socks]->gdown) (2025.6.15)\n",
            "Requirement already satisfied: PySocks!=1.5.7,>=1.5.6 in /usr/local/lib/python3.11/dist-packages (from requests[socks]->gdown) (1.7.1)\n",
            "Requirement already satisfied: gdown in /usr/local/lib/python3.11/dist-packages (5.2.0)\n",
            "Requirement already satisfied: beautifulsoup4 in /usr/local/lib/python3.11/dist-packages (from gdown) (4.13.4)\n",
            "Requirement already satisfied: filelock in /usr/local/lib/python3.11/dist-packages (from gdown) (3.18.0)\n",
            "Requirement already satisfied: requests[socks] in /usr/local/lib/python3.11/dist-packages (from gdown) (2.32.3)\n",
            "Requirement already satisfied: tqdm in /usr/local/lib/python3.11/dist-packages (from gdown) (4.67.1)\n",
            "Requirement already satisfied: soupsieve>1.2 in /usr/local/lib/python3.11/dist-packages (from beautifulsoup4->gdown) (2.7)\n",
            "Requirement already satisfied: typing-extensions>=4.0.0 in /usr/local/lib/python3.11/dist-packages (from beautifulsoup4->gdown) (4.14.0)\n",
            "Requirement already satisfied: charset-normalizer<4,>=2 in /usr/local/lib/python3.11/dist-packages (from requests[socks]->gdown) (3.4.2)\n",
            "Requirement already satisfied: idna<4,>=2.5 in /usr/local/lib/python3.11/dist-packages (from requests[socks]->gdown) (3.10)\n",
            "Requirement already satisfied: urllib3<3,>=1.21.1 in /usr/local/lib/python3.11/dist-packages (from requests[socks]->gdown) (2.4.0)\n",
            "Requirement already satisfied: certifi>=2017.4.17 in /usr/local/lib/python3.11/dist-packages (from requests[socks]->gdown) (2025.6.15)\n",
            "Requirement already satisfied: PySocks!=1.5.7,>=1.5.6 in /usr/local/lib/python3.11/dist-packages (from requests[socks]->gdown) (1.7.1)\n",
            "Downloading...\n",
            "From (original): https://drive.google.com/uc?id=1czUSFvk6Z49H-zRikTc67g2HUUz4imON\n",
            "From (redirected): https://drive.google.com/uc?id=1czUSFvk6Z49H-zRikTc67g2HUUz4imON&confirm=t&uuid=a8cca4b4-8404-4fa4-908f-875ff7c2b536\n",
            "To: /content/log.zip\n",
            "100% 113M/113M [00:03<00:00, 30.3MB/s]\n",
            "Archive:  log.zip\n",
            "   creating: log/\n",
            "   creating: log/store/\n",
            "  inflating: log/store/checkpoint    \n",
            "  inflating: log/store/events.out.tfevents.1604013900.yui-Inspiron-7590.21326.5.v2  \n",
            "  inflating: log/store/events.out.tfevents.1604014000.yui-Inspiron-7590.21649.5.v2  \n",
            "  inflating: log/store/events.out.tfevents.1604014116.yui-Inspiron-7590.22149.5.v2  \n",
            "  inflating: log/store/G.data-00000-of-00001  \n",
            "  inflating: log/store/G.index       \n"
          ]
        }
      ],
      "source": [
        "!git clone -b main https://github.com/zcemycl/TF2DeepFloorplan.git\n",
        "!pip install gdown\n",
        "!pip install --upgrade --no-cache-dir gdown\n",
        "!gdown https://drive.google.com/uc?id=1czUSFvk6Z49H-zRikTc67g2HUUz4imON\n",
        "!unzip log.zip\n",
        "!rm log.zip"
      ]
    },
    {
      "cell_type": "code",
      "execution_count": 3,
      "metadata": {
        "collapsed": true,
        "id": "MvQmMSDeWxYZ",
        "outputId": "c8c1e99d-7d65-4254-dcb5-d9ef7649974d",
        "colab": {
          "base_uri": "https://localhost:8080/"
        }
      },
      "outputs": [
        {
          "output_type": "stream",
          "name": "stdout",
          "text": [
            "Obtaining file:///content/TF2DeepFloorplan\n",
            "  Installing build dependencies ... \u001b[?25l\u001b[?25hdone\n",
            "  Checking if build backend supports build_editable ... \u001b[?25l\u001b[?25hdone\n",
            "  Getting requirements to build editable ... \u001b[?25l\u001b[?25hdone\n",
            "  Installing backend dependencies ... \u001b[?25l\u001b[?25hdone\n",
            "  Preparing editable metadata (pyproject.toml) ... \u001b[?25l\u001b[?25hdone\n",
            "Requirement already satisfied: matplotlib in /usr/local/lib/python3.11/dist-packages (from dfp==0.0.6.dev1+gb5860f2) (3.10.0)\n",
            "Requirement already satisfied: numpy in /usr/local/lib/python3.11/dist-packages (from dfp==0.0.6.dev1+gb5860f2) (2.0.2)\n",
            "Requirement already satisfied: opencv-python in /usr/local/lib/python3.11/dist-packages (from dfp==0.0.6.dev1+gb5860f2) (4.11.0.86)\n",
            "Collecting pdbpp (from dfp==0.0.6.dev1+gb5860f2)\n",
            "  Using cached pdbpp-0.11.6-py3-none-any.whl.metadata (25 kB)\n",
            "Requirement already satisfied: scipy in /usr/local/lib/python3.11/dist-packages (from dfp==0.0.6.dev1+gb5860f2) (1.15.3)\n",
            "Requirement already satisfied: Pillow in /usr/local/lib/python3.11/dist-packages (from dfp==0.0.6.dev1+gb5860f2) (11.2.1)\n",
            "Requirement already satisfied: gdown in /usr/local/lib/python3.11/dist-packages (from dfp==0.0.6.dev1+gb5860f2) (5.2.0)\n",
            "Collecting protobuf==3.20.0 (from dfp==0.0.6.dev1+gb5860f2)\n",
            "  Using cached protobuf-3.20.0-py2.py3-none-any.whl.metadata (720 bytes)\n",
            "Requirement already satisfied: chardet in /usr/local/lib/python3.11/dist-packages (from dfp==0.0.6.dev1+gb5860f2) (5.2.0)\n",
            "Collecting types-requests (from dfp==0.0.6.dev1+gb5860f2)\n",
            "  Using cached types_requests-2.32.4.20250611-py3-none-any.whl.metadata (2.1 kB)\n",
            "Collecting pytype (from dfp==0.0.6.dev1+gb5860f2)\n",
            "  Using cached pytype-2024.10.11-cp311-cp311-manylinux_2_27_x86_64.manylinux_2_28_x86_64.whl.metadata (10 kB)\n",
            "Collecting dynaconf (from dfp==0.0.6.dev1+gb5860f2)\n",
            "  Using cached dynaconf-3.2.11-py2.py3-none-any.whl.metadata (9.2 kB)\n",
            "INFO: pip is looking at multiple versions of dfp[tfgpu] to determine which version is compatible with other requirements. This could take a while.\n",
            "\u001b[31mERROR: Ignored the following versions that require a different python version: 2020.10.8 Requires-Python <3.9,>=3.5; 2020.11.12 Requires-Python <3.9,>=3.6; 2020.11.23 Requires-Python <3.9,>=3.6; 2020.11.3 Requires-Python <3.9,>=3.6; 2020.12.16 Requires-Python <3.9,>=3.6; 2020.12.2 Requires-Python <3.9,>=3.6; 2020.12.23 Requires-Python <3.9,>=3.6; 2020.2.20 Requires-Python !=3.0.*,!=3.1.*,!=3.2.*,!=3.3.*,!=3.4.*,<3.8,>=2.7; 2020.3.19 Requires-Python !=3.0.*,!=3.1.*,!=3.2.*,!=3.3.*,!=3.4.*,<3.8,>=2.7; 2020.4.1 Requires-Python !=3.0.*,!=3.1.*,!=3.2.*,!=3.3.*,!=3.4.*,<3.8,>=2.7; 2020.4.22 Requires-Python <3.8,>=3.5; 2020.5.13 Requires-Python <3.8,>=3.5; 2020.5.7 Requires-Python <3.8,>=3.5; 2020.6.1 Requires-Python <3.9,>=3.5; 2020.6.26 Requires-Python <3.9,>=3.5; 2020.7.14 Requires-Python <3.9,>=3.5; 2020.7.20 Requires-Python <3.9,>=3.5; 2020.7.24 Requires-Python <3.9,>=3.5; 2020.7.30 Requires-Python <3.9,>=3.5; 2020.8.10 Requires-Python <3.9,>=3.5; 2020.8.17 Requires-Python <3.9,>=3.5; 2020.8.28 Requires-Python <3.9,>=3.5; 2020.9.14 Requires-Python <3.9,>=3.5; 2020.9.16 Requires-Python <3.9,>=3.5; 2020.9.24 Requires-Python <3.9,>=3.5; 2020.9.29 Requires-Python <3.9,>=3.5; 2021.1.14 Requires-Python <3.9,>=3.6; 2021.1.21 Requires-Python <3.9,>=3.6; 2021.1.28 Requires-Python <3.9,>=3.6; 2021.1.8 Requires-Python <3.9,>=3.6; 2021.10.11 Requires-Python <3.10,>=3.6; 2021.10.18 Requires-Python <3.10,>=3.6; 2021.10.25 Requires-Python <3.10,>=3.6; 2021.10.4 Requires-Python <3.10,>=3.6; 2021.11.12 Requires-Python <3.10,>=3.6; 2021.11.18 Requires-Python <3.10,>=3.6; 2021.11.2 Requires-Python <3.10,>=3.6; 2021.11.24 Requires-Python <3.10,>=3.6; 2021.11.29 Requires-Python <3.10,>=3.6; 2021.12.15 Requires-Python <3.10,>=3.6; 2021.12.8 Requires-Python <3.10,>=3.6; 2021.2.19 Requires-Python <3.9,>=3.6; 2021.2.23 Requires-Python <3.10,>=3.6; 2021.2.9 Requires-Python <3.9,>=3.6; 2021.3.10 Requires-Python <3.10,>=3.6; 2021.3.22 Requires-Python <3.10,>=3.6; 2021.3.3 Requires-Python <3.10,>=3.6; 2021.4.1 Requires-Python <3.10,>=3.6; 2021.4.15 Requires-Python <3.10,>=3.6; 2021.4.26 Requires-Python <3.10,>=3.6; 2021.4.9 Requires-Python <3.10,>=3.6; 2021.5.11 Requires-Python <3.10,>=3.6; 2021.5.14 Requires-Python <3.10,>=3.6; 2021.5.19 Requires-Python <3.10,>=3.6; 2021.5.25 Requires-Python <3.10,>=3.6; 2021.5.4 Requires-Python <3.10,>=3.6; 2021.5.6 Requires-Python <3.10,>=3.6; 2021.6.17 Requires-Python <3.10,>=3.6; 2021.7.19 Requires-Python <3.10,>=3.6; 2021.7.27 Requires-Python <3.10,>=3.6; 2021.8.11 Requires-Python <3.10,>=3.6; 2021.8.24 Requires-Python <3.10,>=3.6; 2021.8.3 Requires-Python <3.10,>=3.6; 2021.9.27 Requires-Python <3.10,>=3.6; 2021.9.9 Requires-Python <3.10,>=3.6; 2022.1.13 Requires-Python <3.10,>=3.7; 2022.1.31 Requires-Python <3.10,>=3.7; 2022.1.5 Requires-Python <3.10,>=3.6; 2022.1.7 Requires-Python <3.10,>=3.7; 2022.10.13 Requires-Python <3.11,>=3.7; 2022.10.26 Requires-Python <3.11,>=3.7; 2022.11.10 Requires-Python <3.11,>=3.7; 2022.11.18 Requires-Python <3.11,>=3.7; 2022.11.29 Requires-Python <3.11,>=3.7; 2022.12.15 Requires-Python <3.11,>=3.7; 2022.12.9 Requires-Python <3.11,>=3.7; 2022.2.17 Requires-Python <3.10,>=3.7; 2022.2.23 Requires-Python <3.10,>=3.7; 2022.2.8 Requires-Python <3.10,>=3.7; 2022.3.21 Requires-Python <3.10,>=3.7; 2022.3.29 Requires-Python <3.10,>=3.7; 2022.3.8 Requires-Python <3.10,>=3.7; 2022.4.15 Requires-Python <3.11,>=3.7; 2022.4.22 Requires-Python <3.11,>=3.7; 2022.4.26 Requires-Python <3.11,>=3.7; 2022.4.6 Requires-Python <3.10,>=3.7; 2022.5.10 Requires-Python <3.11,>=3.7; 2022.5.19 Requires-Python <3.11,>=3.7; 2022.5.5 Requires-Python <3.11,>=3.7; 2022.6.14 Requires-Python <3.11,>=3.7; 2022.6.23 Requires-Python <3.11,>=3.7; 2022.6.30 Requires-Python <3.11,>=3.7; 2022.6.6 Requires-Python <3.11,>=3.7; 2022.7.18 Requires-Python <3.11,>=3.7; 2022.7.26 Requires-Python <3.11,>=3.7; 2022.8.17 Requires-Python <3.11,>=3.7; 2022.8.23 Requires-Python <3.11,>=3.7; 2022.8.3 Requires-Python <3.11,>=3.7; 2022.8.30 Requires-Python <3.11,>=3.7; 2022.9.19 Requires-Python <3.11,>=3.7; 2022.9.27 Requires-Python <3.11,>=3.7; 2022.9.8 Requires-Python <3.11,>=3.7; 2023.1.10 Requires-Python <3.11,>=3.7; 2023.1.17 Requires-Python <3.11,>=3.7; 2023.1.31 Requires-Python <3.11,>=3.7; 2023.2.14 Requires-Python <3.11,>=3.7; 2023.2.17 Requires-Python <3.11,>=3.7; 2023.2.9 Requires-Python <3.11,>=3.7; 2023.3.13 Requires-Python <3.11,>=3.7; 2023.3.2 Requires-Python <3.11,>=3.7; 2023.3.31 Requires-Python <3.11,>=3.7; 2023.3.8 Requires-Python <3.11,>=3.7; 2023.4.11 Requires-Python <3.11,>=3.7; 2023.4.18 Requires-Python <3.11,>=3.7; 2023.4.27 Requires-Python <3.11,>=3.7; 2023.5.24 Requires-Python <3.11,>=3.7; 2023.5.8 Requires-Python <3.11,>=3.7; 2023.6.16 Requires-Python <3.11,>=3.7; 2023.6.2 Requires-Python <3.11,>=3.7; 2023.7.12 Requires-Python <3.11,>=3.8; 2023.7.21 Requires-Python <3.11,>=3.8; 2023.7.28 Requires-Python <3.11,>=3.8; 2023.8.14 Requires-Python <3.11,>=3.8; 2023.8.22 Requires-Python <3.11,>=3.8; 2023.8.31 Requires-Python <3.11,>=3.8; 2023.9.11 Requires-Python <3.11,>=3.8\u001b[0m\u001b[31m\n",
            "\u001b[0m\u001b[31mERROR: Could not find a version that satisfies the requirement tensorflow-gpu==2.3.0; extra == \"tfgpu\" (from dfp[tfgpu]) (from versions: 2.12.0)\u001b[0m\u001b[31m\n",
            "\u001b[0m\u001b[31mERROR: No matching distribution found for tensorflow-gpu==2.3.0; extra == \"tfgpu\"\u001b[0m\u001b[31m\n",
            "\u001b[0m"
          ]
        }
      ],
      "source": [
        "# gpu\n",
        "#!cd TF2DeepFloorplan && pip install -e .[tfgpu]\n",
        "# cpu\n",
        "!cd TF2DeepFloorplan && pip install -e .[tfcpu]"
      ]
    },
    {
      "cell_type": "markdown",
      "metadata": {
        "id": "O5C-1z_VWxYa"
      },
      "source": [
        "### Main Script"
      ]
    },
    {
      "cell_type": "code",
      "execution_count": 1,
      "metadata": {
        "colab": {
          "base_uri": "https://localhost:8080/",
          "height": 383
        },
        "id": "C4VRom9mqBPT",
        "outputId": "2e950638-3adf-4cfc-c3db-1748ce2fe153",
        "collapsed": true
      },
      "outputs": [
        {
          "output_type": "error",
          "ename": "ModuleNotFoundError",
          "evalue": "No module named 'dfp'",
          "traceback": [
            "\u001b[0;31m---------------------------------------------------------------------------\u001b[0m",
            "\u001b[0;31mModuleNotFoundError\u001b[0m                       Traceback (most recent call last)",
            "\u001b[0;32m/tmp/ipython-input-1-3191068559.py\u001b[0m in \u001b[0;36m<cell line: 0>\u001b[0;34m()\u001b[0m\n\u001b[1;32m      1\u001b[0m \u001b[0;32mimport\u001b[0m \u001b[0mtensorflow\u001b[0m \u001b[0;32mas\u001b[0m \u001b[0mtf\u001b[0m\u001b[0;34m\u001b[0m\u001b[0;34m\u001b[0m\u001b[0m\n\u001b[1;32m      2\u001b[0m \u001b[0;32mimport\u001b[0m \u001b[0msys\u001b[0m\u001b[0;34m\u001b[0m\u001b[0;34m\u001b[0m\u001b[0m\n\u001b[0;32m----> 3\u001b[0;31m \u001b[0;32mfrom\u001b[0m \u001b[0mdfp\u001b[0m\u001b[0;34m.\u001b[0m\u001b[0mnet\u001b[0m \u001b[0;32mimport\u001b[0m \u001b[0;34m*\u001b[0m\u001b[0;34m\u001b[0m\u001b[0;34m\u001b[0m\u001b[0m\n\u001b[0m\u001b[1;32m      4\u001b[0m \u001b[0;32mfrom\u001b[0m \u001b[0mdfp\u001b[0m\u001b[0;34m.\u001b[0m\u001b[0mdata\u001b[0m \u001b[0;32mimport\u001b[0m \u001b[0;34m*\u001b[0m\u001b[0;34m\u001b[0m\u001b[0;34m\u001b[0m\u001b[0m\n\u001b[1;32m      5\u001b[0m \u001b[0;32mimport\u001b[0m \u001b[0mmatplotlib\u001b[0m\u001b[0;34m.\u001b[0m\u001b[0mimage\u001b[0m \u001b[0;32mas\u001b[0m \u001b[0mmpimg\u001b[0m\u001b[0;34m\u001b[0m\u001b[0;34m\u001b[0m\u001b[0m\n",
            "\u001b[0;31mModuleNotFoundError\u001b[0m: No module named 'dfp'",
            "",
            "\u001b[0;31m---------------------------------------------------------------------------\u001b[0;32m\nNOTE: If your import is failing due to a missing package, you can\nmanually install dependencies using either !pip or !apt.\n\nTo view examples of installing some common dependencies, click the\n\"Open Examples\" button below.\n\u001b[0;31m---------------------------------------------------------------------------\u001b[0m\n"
          ],
          "errorDetails": {
            "actions": [
              {
                "action": "open_url",
                "actionText": "Open Examples",
                "url": "/notebooks/snippets/importing_libraries.ipynb"
              }
            ]
          }
        }
      ],
      "source": [
        "import tensorflow as tf\n",
        "import sys\n",
        "from dfp.net import *\n",
        "from dfp.data import *\n",
        "import matplotlib.image as mpimg\n",
        "import matplotlib.pyplot as plt\n",
        "from argparse import Namespace\n",
        "import os\n",
        "import gc\n",
        "os.environ['TF_FORCE_GPU_ALLOW_GROWTH'] = 'true'\n",
        "from dfp.utils.rgb_ind_convertor import *\n",
        "from dfp.utils.util import *\n",
        "from dfp.utils.legend import *\n",
        "from dfp.utils.settings import *\n",
        "from dfp.deploy import *\n",
        "print(tf.test.is_gpu_available())\n",
        "print(tf.config.list_physical_devices('GPU'))"
      ]
    },
    {
      "cell_type": "code",
      "execution_count": null,
      "metadata": {
        "id": "30DTDbxbwm3O"
      },
      "outputs": [],
      "source": [
        "img_path = './TF2DeepFloorplan/resources/30939153.jpg'\n",
        "inp = mpimg.imread(img_path)\n",
        "args = parse_args(\"--tomlfile ./TF2DeepFloorplan/docs/notebook.toml\".split())\n",
        "args = overwrite_args_with_toml(args)\n",
        "args.image = img_path"
      ]
    },
    {
      "cell_type": "code",
      "execution_count": null,
      "metadata": {
        "id": "xzqbdPC0uJNc"
      },
      "outputs": [],
      "source": [
        "result = main(args)"
      ]
    },
    {
      "cell_type": "code",
      "execution_count": null,
      "metadata": {
        "id": "2xVIt5LEusqf"
      },
      "outputs": [],
      "source": [
        "plt.subplot(1,2,1)\n",
        "plt.imshow(inp); plt.xticks([]); plt.yticks([]);\n",
        "plt.subplot(1,2,2)\n",
        "plt.imshow(result); plt.xticks([]); plt.yticks([]);"
      ]
    },
    {
      "cell_type": "markdown",
      "metadata": {
        "id": "Jto5H5cXypOD"
      },
      "source": [
        "## Breakdown of postprocessing (step by step)"
      ]
    },
    {
      "cell_type": "code",
      "execution_count": null,
      "metadata": {
        "id": "57rg5h7XywwU"
      },
      "outputs": [],
      "source": [
        "model,img,shp = init(args)\n",
        "logits_cw,logits_r = predict(model,img,shp)"
      ]
    },
    {
      "cell_type": "code",
      "execution_count": null,
      "metadata": {
        "id": "2aUCqpT6zPmv"
      },
      "outputs": [],
      "source": [
        "logits_r = tf.image.resize(logits_r,shp[:2])\n",
        "logits_cw = tf.image.resize(logits_cw,shp[:2])\n",
        "r = convert_one_hot_to_image(logits_r)[0].numpy()\n",
        "cw = convert_one_hot_to_image(logits_cw)[0].numpy()\n",
        "plt.subplot(1,2,1)\n",
        "plt.imshow(r.squeeze()); plt.xticks([]); plt.yticks([]);\n",
        "plt.subplot(1,2,2)\n",
        "plt.imshow(cw.squeeze()); plt.xticks([]); plt.yticks([]);"
      ]
    },
    {
      "cell_type": "code",
      "execution_count": null,
      "metadata": {
        "id": "UYf4WVVCzgqj"
      },
      "outputs": [],
      "source": [
        "r_color,cw_color = colorize(r.squeeze(),cw.squeeze())\n",
        "plt.subplot(1,2,1)\n",
        "plt.imshow(r_color); plt.xticks([]); plt.yticks([]);\n",
        "plt.subplot(1,2,2)\n",
        "plt.imshow(cw_color); plt.xticks([]); plt.yticks([]);"
      ]
    },
    {
      "cell_type": "code",
      "execution_count": null,
      "metadata": {
        "id": "LTm_qYqa0HGc"
      },
      "outputs": [],
      "source": [
        "newr,newcw = post_process(r,cw,shp)\n",
        "plt.subplot(1,2,1)\n",
        "plt.imshow(newr.squeeze()); plt.xticks([]); plt.yticks([]);\n",
        "plt.subplot(1,2,2)\n",
        "plt.imshow(newcw.squeeze()); plt.xticks([]); plt.yticks([]);"
      ]
    },
    {
      "cell_type": "code",
      "execution_count": null,
      "metadata": {
        "id": "S5MCeHF30ygl"
      },
      "outputs": [],
      "source": [
        "newr_color,newcw_color = colorize(newr.squeeze(),newcw.squeeze())\n",
        "plt.subplot(1,2,1)\n",
        "plt.imshow(newr_color); plt.xticks([]); plt.yticks([]);\n",
        "plt.subplot(1,2,2)\n",
        "plt.imshow(newcw_color); plt.xticks([]); plt.yticks([]);"
      ]
    },
    {
      "cell_type": "code",
      "execution_count": null,
      "metadata": {
        "id": "18UYo3rz0918"
      },
      "outputs": [],
      "source": [
        "plt.imshow(newr_color+newcw_color); plt.xticks([]); plt.yticks([]);"
      ]
    },
    {
      "cell_type": "code",
      "execution_count": null,
      "metadata": {
        "id": "dydb1kWl13hL"
      },
      "outputs": [],
      "source": [
        "over255 = lambda x: [p/255 for p in x]\n",
        "colors2 = [over255(rgb) for rgb in list(floorplan_fuse_map.values())]\n",
        "colors = [\"background\", \"closet\", \"bathroom\",\n",
        "          \"living room\\nkitchen\\ndining room\",\n",
        "          \"bedroom\",\"hall\",\"balcony\",\"not used\",\"not used\",\n",
        "          \"door/window\",\"wall\"]\n",
        "f = lambda m,c: plt.plot([],[],marker=m, color=c, ls=\"none\")[0]\n",
        "handles = [f(\"s\", colors2[i]) for i in range(len(colors))]\n",
        "labels = colors\n",
        "legend = plt.legend(handles, labels, loc=3,framealpha=1, frameon=True)\n",
        "\n",
        "fig  = legend.figure\n",
        "fig.canvas.draw()\n",
        "plt.xticks([]); plt.yticks([]);\n"
      ]
    },
    {
      "cell_type": "code",
      "execution_count": null,
      "metadata": {
        "id": "iy8nx0WZ2QGS"
      },
      "outputs": [],
      "source": []
    }
  ],
  "metadata": {
    "accelerator": "GPU",
    "colab": {
      "name": "deepfloorplan.ipynb",
      "provenance": [],
      "include_colab_link": true
    },
    "kernelspec": {
      "display_name": "Python 3 (ipykernel)",
      "language": "python",
      "name": "python3"
    },
    "language_info": {
      "codemirror_mode": {
        "name": "ipython",
        "version": 3
      },
      "file_extension": ".py",
      "mimetype": "text/x-python",
      "name": "python",
      "nbconvert_exporter": "python",
      "pygments_lexer": "ipython3",
      "version": "3.8.16"
    }
  },
  "nbformat": 4,
  "nbformat_minor": 0
}